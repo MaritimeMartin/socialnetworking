{
 "cells": [
  {
   "cell_type": "code",
   "execution_count": 4,
   "id": "c6440fae-a4f6-4ef9-8cfa-9af6b266ab60",
   "metadata": {},
   "outputs": [],
   "source": [
    "from itertools import chain, combinations\n",
    "from functools import partial\n",
    "from pyvis.network import Network"
   ]
  },
  {
   "cell_type": "markdown",
   "id": "1778a4b5-a07b-4ac1-b01f-d1072eddaba8",
   "metadata": {},
   "source": [
    "# Creating Hashtag Graph from Social Networking Event\n",
    "## 1. Erklären und Hintergrundbild ändern\n",
    "## 2. Erklärungsbild zusenden\n",
    "##"
   ]
  },
  {
   "cell_type": "code",
   "execution_count": 3,
   "id": "ace2fe31-4958-491f-aefd-01d4636cec65",
   "metadata": {},
   "outputs": [],
   "source": [
    "with open('example_hashes.csv') as f:\n",
    "    lines = f.readlines()\n",
    "\n",
    "hash_tags = [line.strip() for line in lines]\n",
    "net = Network(height='1080px', width=\"1920\")\n",
    "\n",
    "def flatten(l):\n",
    "    splitted = [a.split(';') for a in l]\n",
    "    edges = set(chain(*[list(combinations(a,2)) for a in splitted]))\n",
    "    nodes = set(chain(*splitted))\n",
    "    return nodes, edges\n",
    "    \n",
    "\n",
    "nodes, edges = flatten(hash_tags)\n",
    "net.add_nodes(nodes)\n",
    "for edge in edges:\n",
    "\n",
    "    net.add_edge(*edge)\n",
    "\n",
    "net.show_buttons(filter_=['physics'])\n",
    "net.show('output.html')"
   ]
  },
  {
   "cell_type": "code",
   "execution_count": null,
   "id": "e230b8b0-7ed3-451f-abfe-01fe0ce005f4",
   "metadata": {},
   "outputs": [],
   "source": []
  }
 ],
 "metadata": {
  "kernelspec": {
   "display_name": "Python 3 (ipykernel)",
   "language": "python",
   "name": "python3"
  },
  "language_info": {
   "codemirror_mode": {
    "name": "ipython",
    "version": 3
   },
   "file_extension": ".py",
   "mimetype": "text/x-python",
   "name": "python",
   "nbconvert_exporter": "python",
   "pygments_lexer": "ipython3",
   "version": "3.10.0"
  }
 },
 "nbformat": 4,
 "nbformat_minor": 5
}
